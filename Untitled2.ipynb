{
  "nbformat": 4,
  "nbformat_minor": 0,
  "metadata": {
    "colab": {
      "provenance": [],
      "authorship_tag": "ABX9TyORRE3uiTGPu1Rr4sEjBtoP",
      "include_colab_link": true
    },
    "kernelspec": {
      "name": "python3",
      "display_name": "Python 3"
    },
    "language_info": {
      "name": "python"
    }
  },
  "cells": [
    {
      "cell_type": "markdown",
      "metadata": {
        "id": "view-in-github",
        "colab_type": "text"
      },
      "source": [
        "<a href=\"https://colab.research.google.com/github/mere33/Esmeralda-/blob/main/Untitled2.ipynb\" target=\"_parent\"><img src=\"https://colab.research.google.com/assets/colab-badge.svg\" alt=\"Open In Colab\"/></a>"
      ]
    },
    {
      "cell_type": "code",
      "execution_count": null,
      "metadata": {
        "id": "ewu0O6aF4LvD"
      },
      "outputs": [],
      "source": []
    },
    {
      "cell_type": "markdown",
      "source": [
        "Inicio de programcion:"
      ],
      "metadata": {
        "id": "1efikKI6IeC3"
      }
    },
    {
      "cell_type": "code",
      "source": [
        "print(\"hola mundo, \\n mi nombre es esme,\")"
      ],
      "metadata": {
        "colab": {
          "base_uri": "https://localhost:8080/"
        },
        "id": "gr0ruz5d6ijz",
        "outputId": "3de760f3-5f1c-4f7b-aaf5-4d6f05318998"
      },
      "execution_count": 3,
      "outputs": [
        {
          "output_type": "stream",
          "name": "stdout",
          "text": [
            "hola mundo, \n",
            " mi nombre es esme,\n"
          ]
        }
      ]
    },
    {
      "cell_type": "markdown",
      "source": [
        "TIPOS DE DATOS\n",
        "* Enteros: Representan numeros enteros, positivos o negativos, Ejemplos:10, 0, -5\n",
        "* Flotantes:Representan numeros decimales, ejemplo: 0.5\n",
        "* Cadenas:Representan una serie de Caracteres, por ejemplo: hola mundo, 1234.\n",
        "* Booleanos: Representan valores de Verdadero o Falso, siendo True o False\n",
        "\n",
        "\n"
      ],
      "metadata": {
        "id": "RQ-9mPhjIPCx"
      }
    },
    {
      "cell_type": "code",
      "source": [
        "Numero = 1.8\n",
        "print(Numero)\n",
        "print(type(Numero))\n",
        "\n",
        "Cadena = \"Esmeralda\"\n",
        "print(Cadena)\n",
        "print((type(Cadena)))\n",
        "\n",
        "Valor=True\n",
        "print(Valor)\n",
        "print(type(Valor))"
      ],
      "metadata": {
        "colab": {
          "base_uri": "https://localhost:8080/"
        },
        "id": "mR1qrJRe7dbd",
        "outputId": "61eb7371-0cf1-4e24-ca9d-45691e82473e"
      },
      "execution_count": 7,
      "outputs": [
        {
          "output_type": "stream",
          "name": "stdout",
          "text": [
            "1.8\n",
            "<class 'float'>\n",
            "Esmeralda\n",
            "<class 'str'>\n",
            "True\n",
            "<class 'bool'>\n"
          ]
        }
      ]
    },
    {
      "cell_type": "markdown",
      "source": [
        "OPERACIONES BASICAS"
      ],
      "metadata": {
        "id": "_RmJLrUgS1Cf"
      }
    },
    {
      "cell_type": "code",
      "source": [
        "a=10\n",
        "b=5\n",
        "c=a+b\n",
        "print(c)"
      ],
      "metadata": {
        "colab": {
          "base_uri": "https://localhost:8080/"
        },
        "id": "Lkceh7Si-uM5",
        "outputId": "068062ae-0c76-4f80-8e26-4e854e3fe332"
      },
      "execution_count": 8,
      "outputs": [
        {
          "output_type": "stream",
          "name": "stdout",
          "text": [
            "15\n"
          ]
        }
      ]
    },
    {
      "cell_type": "markdown",
      "source": [],
      "metadata": {
        "id": "sfBw74JyW52J"
      }
    },
    {
      "cell_type": "code",
      "source": [
        "# SI DESEAS AGREGAR ALGUN COMENATRIO O APUNTE, SUTILIZA EL SIMBOLO DE GATO SEGUIDO POR EL TEXTO QUE DESEAS\n",
        "N1=10\n",
        "N2 =6\n",
        "SUMA= N1+N2\n",
        "RESTA= N1-N2\n",
        "MULTIPLICACION= N1*N2\n",
        "DIVISION= N1/N2\n",
        "OPERACION = (N1*N2)+(N1/N2)\n",
        "POTENCIA = N1**N2 # SE UTILIZA PARA LAS POTENCIAS DOBLE ASTERISCO SEGUIDO DE EL NUMERO AL QUE HAY QUE ELEVAR\n",
        "\n",
        "print(RESTA)\n",
        "print(MULTIPLICACION)\n",
        "print(DIVISION)\n",
        "print(SUMA)\n",
        "print(OPERACION)\n",
        "print(POTENCIA)\n",
        "\n",
        "print (\"El valor de suma es:\", SUMA)\n",
        "print (\"El valor de resta es:\", RESTA)\n",
        "print (\"El valor de multiplicacion es:\", MULTIPLICACION)\n",
        "print (\"El valor de division es:\", DIVISION)\n",
        "print (\"El valor de operacion es:\", OPERACION)\n",
        "print (\"El valor de potencia es:\", POTENCIA)"
      ],
      "metadata": {
        "colab": {
          "base_uri": "https://localhost:8080/"
        },
        "collapsed": true,
        "id": "rFyFbwHL9UTN",
        "outputId": "6d8600cd-5ead-4eb0-dff7-ca08a49756da"
      },
      "execution_count": 15,
      "outputs": [
        {
          "output_type": "stream",
          "name": "stdout",
          "text": [
            "4\n",
            "60\n",
            "1.6666666666666667\n",
            "16\n",
            "61.666666666666664\n",
            "1000000\n",
            "El valor de suma es: 16\n",
            "El valor de resta es: 4\n",
            "El valor de multiplicacion es: 60\n",
            "El valor de division es: 1.6666666666666667\n",
            "El valor de operacion es: 61.666666666666664\n",
            "El valor de potencia es: 1000000\n"
          ]
        }
      ]
    },
    {
      "cell_type": "code",
      "source": [
        "# OPERADORES ARITMETICOS\n",
        "a = 2\n",
        "b = 4\n",
        "\n",
        "resultado = a/b\n",
        "print(resultado)"
      ],
      "metadata": {
        "colab": {
          "base_uri": "https://localhost:8080/"
        },
        "id": "Fa0vmLBOYBqA",
        "outputId": "aacfaab0-7ead-4629-cb48-6b3e1edfb940"
      },
      "execution_count": 13,
      "outputs": [
        {
          "output_type": "stream",
          "name": "stdout",
          "text": [
            "0.5\n"
          ]
        }
      ]
    },
    {
      "cell_type": "code",
      "source": [
        "# MODULO RESIDUO DE LA DIVISION\n",
        "a = 10\n",
        "b = 3\n",
        "residuo = a % b\n",
        "print(residuo)"
      ],
      "metadata": {
        "colab": {
          "base_uri": "https://localhost:8080/"
        },
        "id": "kTFXQo_2Yxxv",
        "outputId": "287020c2-f105-481b-de5d-8af284bcd606"
      },
      "execution_count": 14,
      "outputs": [
        {
          "output_type": "stream",
          "name": "stdout",
          "text": [
            "1\n"
          ]
        }
      ]
    },
    {
      "cell_type": "code",
      "source": [
        "# UNA PROPIEDAD DE LA RAIZ ES QUE ESTA SE PUEDE PASAR A FORMA FRACCIONARIA\n",
        "a = 25 ** 0.5\n",
        "print(a)\n",
        "b = 25 ** 1/2\n",
        "print(b)\n",
        "# Los valores no se pueden expresar por el momento en fraccion, solamente que se meta en parentesis\n",
        "# otra forma de calcular la raiz es la siguiente:\n",
        "c = pow(25,0.5)\n",
        "print(c)"
      ],
      "metadata": {
        "colab": {
          "base_uri": "https://localhost:8080/"
        },
        "id": "AcvpGbjebD-z",
        "outputId": "3c4caee3-370f-4446-d459-24a45ec2247b"
      },
      "execution_count": 19,
      "outputs": [
        {
          "output_type": "stream",
          "name": "stdout",
          "text": [
            "5.0\n",
            "12.5\n",
            "5.0\n"
          ]
        }
      ]
    },
    {
      "cell_type": "markdown",
      "source": [
        "OTRA FORMA DE CALCULAR LA RAIZ ES REQUIRIENDO UNA LIBRERIA"
      ],
      "metadata": {
        "id": "PWXdb_pFf33M"
      }
    },
    {
      "cell_type": "code",
      "source": [
        "from re import A\n",
        "import numpy as np #Libreria para calcular raices\n",
        "a = np.sqrt (25)\n",
        "print (a)"
      ],
      "metadata": {
        "colab": {
          "base_uri": "https://localhost:8080/"
        },
        "id": "PqX8dIzkdIG0",
        "outputId": "d2472bc3-5469-405b-d946-9af798a1fbb4"
      },
      "execution_count": 20,
      "outputs": [
        {
          "output_type": "stream",
          "name": "stdout",
          "text": [
            "5.0\n"
          ]
        }
      ]
    },
    {
      "cell_type": "markdown",
      "source": [
        "![image.png](\n",
        "  \n",
        ")"
      ],
      "metadata": {
        "id": "6-6R0HxYi4Wh"
      }
    },
    {
      "cell_type": "code",
      "source": [
        "# JERARQUIA DE OERACIONES\n",
        "# PARENTECIS POTENCIAS Y RAICES\n",
        "Resultado = ((15-13)* (31-26))+18/(1+4*2) # si deseas que el resultado te aparesca entero  en lugar de con decimales se colocan dos diagonales\n",
        "print(\" El Resultado de la operacion es igual a:\" , Resultado)"
      ],
      "metadata": {
        "colab": {
          "base_uri": "https://localhost:8080/"
        },
        "id": "Sst1DQPCjEiW",
        "outputId": "71a93706-0a3d-4558-f0ca-7f633685110c"
      },
      "execution_count": 22,
      "outputs": [
        {
          "output_type": "stream",
          "name": "stdout",
          "text": [
            " El Resultado de la operacion es igual a: 12.0\n"
          ]
        }
      ]
    },
    {
      "cell_type": "markdown",
      "source": [],
      "metadata": {
        "id": "z_x9IBxQkDEP"
      }
    }
  ]
}